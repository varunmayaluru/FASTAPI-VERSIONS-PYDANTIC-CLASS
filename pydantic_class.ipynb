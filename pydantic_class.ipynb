{
 "cells": [
  {
   "cell_type": "markdown",
   "metadata": {},
   "source": [
    "## Getting Started with Pydantic"
   ]
  },
  {
   "cell_type": "markdown",
   "metadata": {},
   "source": [
    "### Basic Example"
   ]
  },
  {
   "cell_type": "code",
   "execution_count": 1,
   "metadata": {},
   "outputs": [
    {
     "name": "stdout",
     "output_type": "stream",
     "text": [
      "name='John Doe' age=30\n"
     ]
    }
   ],
   "source": [
    "from pydantic import BaseModel\n",
    "\n",
    "\n",
    "class User(BaseModel):\n",
    "    name: str\n",
    "    age: int\n",
    "\n",
    "\n",
    "user = User(name='John Doe', age=30)\n",
    "print(user)"
   ]
  },
  {
   "cell_type": "code",
   "execution_count": 9,
   "metadata": {},
   "outputs": [],
   "source": [
    "from pydantic import BaseModel\n",
    "\n",
    "\n",
    "class User(BaseModel):\n",
    "    name: str\n",
    "    age: int\n",
    "\n",
    "\n",
    "# This will raise a validation error\n",
    "invalid_user = User(name='John Doe', age='thirty')\n",
    "print(invalid_user)"
   ]
  },
  {
   "cell_type": "markdown",
   "metadata": {},
   "source": [
    "### Data Validation Example"
   ]
  },
  {
   "cell_type": "code",
   "execution_count": 11,
   "metadata": {},
   "outputs": [],
   "source": [
    "from pydantic import BaseModel, Field\n",
    "\n",
    "class User(BaseModel):\n",
    "    name: str\n",
    "    age: int = Field(..., ge=18)\n",
    "\n",
    "# This will raise a validation error because age is less than 18\n",
    "invalid_user = User(name='John Doe', age=17)"
   ]
  },
  {
   "cell_type": "markdown",
   "metadata": {},
   "source": [
    "### Nested Models Examples"
   ]
  },
  {
   "cell_type": "code",
   "execution_count": 12,
   "metadata": {},
   "outputs": [
    {
     "name": "stdout",
     "output_type": "stream",
     "text": [
      "title='My First Blog Post' content='This is the content of the blog post.' author=User(name='John Doe', age=30, email='john@example.com') tags=['python', 'pydantic', 'tutorial']\n"
     ]
    }
   ],
   "source": [
    "from pydantic import BaseModel\n",
    "from typing import List\n",
    "\n",
    "\n",
    "class User(BaseModel):\n",
    "    name: str\n",
    "    age: int\n",
    "    email: str\n",
    "\n",
    "\n",
    "class BlogPost(BaseModel):\n",
    "    title: str\n",
    "    content: str\n",
    "    author: User\n",
    "    tags: List[str]\n",
    "\n",
    "\n",
    "post = BlogPost(\n",
    "    title='My First Blog Post',\n",
    "    content='This is the content of the blog post.',\n",
    "    author=User(name='John Doe', age=30, email='john@example.com'), # User is used model is nested here\n",
    "    tags=['python', 'pydantic', 'tutorial']\n",
    ")\n",
    "\n",
    "print(post)"
   ]
  },
  {
   "cell_type": "markdown",
   "metadata": {},
   "source": [
    "### Optional Fields Examples"
   ]
  },
  {
   "cell_type": "code",
   "execution_count": 13,
   "metadata": {},
   "outputs": [
    {
     "name": "stdout",
     "output_type": "stream",
     "text": [
      "name='John Doe' age=30 email=None\n",
      "name='Jane Doe' age=25 email='jane@example.com'\n"
     ]
    }
   ],
   "source": [
    "from pydantic import BaseModel\n",
    "from typing import Optional\n",
    "\n",
    "\n",
    "class User(BaseModel):\n",
    "    name: str\n",
    "    age: int\n",
    "    email: Optional[str] = None\n",
    "\n",
    "\n",
    "user_without_email = User(name='John Doe', age=30)\n",
    "print(user_without_email)\n",
    "\n",
    "user_with_email = User(name='Jane Doe', age=25, email='jane@example.com')\n",
    "print(user_with_email)"
   ]
  },
  {
   "cell_type": "markdown",
   "metadata": {},
   "source": [
    "## Advanced Examples\n",
    "### Custom Validators Example"
   ]
  },
  {
   "cell_type": "code",
   "execution_count": 14,
   "metadata": {},
   "outputs": [
    {
     "name": "stdout",
     "output_type": "stream",
     "text": [
      "name='John Doe' age=30 email=None\n",
      "1 validation error for User\n",
      "name\n",
      "  Value error, Name must contain a space [type=value_error, input_value='JohnDoe', input_type=str]\n",
      "    For further information visit https://errors.pydantic.dev/2.8/v/value_error\n"
     ]
    }
   ],
   "source": [
    "from pydantic import BaseModel, field_validator\n",
    "from typing import Optional\n",
    "\n",
    "\n",
    "class User(BaseModel):\n",
    "    name: str\n",
    "    age: int\n",
    "    email: Optional[str] = None\n",
    "\n",
    "    @field_validator('name')\n",
    "    def name_must_contain_space(cls, value):\n",
    "        if ' ' not in value:\n",
    "            raise ValueError('Name must contain a space')\n",
    "        return value\n",
    "\n",
    "\n",
    "try:\n",
    "    user = User(name='John Doe', age=30)\n",
    "    print(user) \n",
    "\n",
    "    invalid_user = User(name='JohnDoe', age=30)\n",
    "except ValueError as e:\n",
    "    print(str(e))\n"
   ]
  },
  {
   "cell_type": "markdown",
   "metadata": {},
   "source": [
    "### Complex Data Types Example"
   ]
  },
  {
   "cell_type": "code",
   "execution_count": 15,
   "metadata": {},
   "outputs": [
    {
     "name": "stdout",
     "output_type": "stream",
     "text": [
      "settings={'theme': 'dark', 'notifications': 'enabled'} homepage=Url('https://example.com/')\n"
     ]
    }
   ],
   "source": [
    "from pydantic import BaseModel, HttpUrl\n",
    "from typing import Dict\n",
    "\n",
    "\n",
    "class Config(BaseModel):\n",
    "    settings: Dict[str, str]\n",
    "    homepage: HttpUrl\n",
    "\n",
    "\n",
    "config = Config(\n",
    "    settings={'theme': 'dark', 'notifications': 'enabled'},\n",
    "    homepage='https://example.com'\n",
    ")\n",
    "\n",
    "print(config)"
   ]
  },
  {
   "cell_type": "code",
   "execution_count": null,
   "metadata": {},
   "outputs": [],
   "source": []
  }
 ],
 "metadata": {
  "kernelspec": {
   "display_name": ".venv",
   "language": "python",
   "name": "python3"
  },
  "language_info": {
   "codemirror_mode": {
    "name": "ipython",
    "version": 3
   },
   "file_extension": ".py",
   "mimetype": "text/x-python",
   "name": "python",
   "nbconvert_exporter": "python",
   "pygments_lexer": "ipython3",
   "version": "3.10.0"
  }
 },
 "nbformat": 4,
 "nbformat_minor": 2
}
